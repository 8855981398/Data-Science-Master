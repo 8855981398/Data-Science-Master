{
 "cells": [
  {
   "cell_type": "markdown",
   "id": "80f5cac6-acf3-43ac-a9a8-57655594d25e",
   "metadata": {},
   "source": [
    "Q2.Why threading module used? rite the use of the following functions\n",
    "1.activeCount()\n",
    "2.currentThread()\n",
    "3.enumerate()"
   ]
  },
  {
   "cell_type": "markdown",
   "id": "f49e7eac-612f-483a-bbd8-2b3e9c784933",
   "metadata": {},
   "source": [
    "---> The threading module in Python is used for creating and managing threads, which are separate flows of execution within a program.\n",
    "activeCount(): This function returns the number of Thread objects currently alive.\n",
    "currentThread(): This function returns the Thread object representing the currently executing thread.\n",
    "enumerate(): This function returns a list of all Thread objects currently alive."
   ]
  },
  {
   "cell_type": "markdown",
   "id": "c3d93861-e097-4f4e-9ef1-ed8c0b978501",
   "metadata": {},
   "source": [
    "3.Explain the following functions\n",
    "\n",
    "1.run()\n",
    "2.start\n",
    "3.join\n",
    "4.isAlive()"
   ]
  },
  {
   "cell_type": "markdown",
   "id": "f950e341-5870-4858-9178-1c87e0a90a9f",
   "metadata": {},
   "source": [
    "run(): The run() method is a fundamental method of a thread class. It contains the code that will be executed when the thread is started. \n",
    "\n",
    "start(): The start() method is used to initiate the execution of a thread. When you call start() on a thread object, it schedules the thread to run independently.\n",
    "\n",
    "join(): The join() method is used to wait for a thread to complete its execution. When you call join() on a thread object, the calling thread (usually the main thread) will be blocked until the target thread finishes executing.\n",
    "\n",
    "isAlive(): The isAlive() method is used to check whether a thread is currently running or not. It returns True if the thread is still active and executing its code, and False otherwise"
   ]
  },
  {
   "cell_type": "markdown",
   "id": "47b23425-7d2c-4ab3-8d77-35f8676027ee",
   "metadata": {},
   "source": [
    "Q4. write a python program to create two threads. Thread one must print the list of squares and thread\n",
    "two must print the list of cubes."
   ]
  },
  {
   "cell_type": "code",
   "execution_count": 5,
   "id": "d115aec7-9903-40d8-9b1c-c7d54d03112e",
   "metadata": {},
   "outputs": [
    {
     "name": "stdout",
     "output_type": "stream",
     "text": [
      "Square of 1: 1\n",
      "Square of 2: 4\n",
      "Square of 3: 9\n",
      "Square of 4: 16\n",
      "Square of 5: 25\n",
      "Cube of 1: 1\n",
      "Cube of 2: 8\n",
      "Cube of 3: 27\n",
      "Cube of 4: 64\n",
      "Cube of 5: 125\n",
      "Program execution completed.\n"
     ]
    }
   ],
   "source": [
    "import threading\n",
    "\n",
    "def print_squares():\n",
    "    for num in range(1, 6):\n",
    "        square = num ** 2\n",
    "        print(f\"Square of {num}: {square}\")\n",
    "\n",
    "def print_cubes():\n",
    "    for num in range(1, 6):\n",
    "        cube = num ** 3\n",
    "        print(f\"Cube of {num}: {cube}\")\n",
    "\n",
    "thread1 = threading.Thread(target=print_squares)\n",
    "\n",
    "thread2 = threading.Thread(target=print_cubes)\n",
    "\n",
    "thread1.start()\n",
    "thread2.start()\n",
    "\n",
    "\n",
    "thread1.join()\n",
    "thread2.join()\n",
    "\n",
    "print(\"Program execution completed.\")\n"
   ]
  },
  {
   "cell_type": "markdown",
   "id": "73acc1fc-9221-4bc6-af27-796e82ec4fb4",
   "metadata": {},
   "source": [
    "Q5. State advantages and disadvantages of multithreading"
   ]
  },
  {
   "cell_type": "markdown",
   "id": "105af5af-6b2f-4d6b-9e19-5d4d935098ba",
   "metadata": {},
   "source": [
    "Advantages of Multithreading:\n",
    "\n",
    "Improved performance through parallel processing.\n",
    "\n",
    "Enhanced responsiveness and user experience.\n",
    "\n",
    "Efficient resource sharing and utilization.\n",
    "\n",
    "Simplified program structure and coordination.\n",
    "\n",
    "Disadvantages of Multithreading:\n",
    "\n",
    "Increased complexity and difficulty in development.\n",
    "\n",
    "Higher risk of bugs and synchronization issues.\n",
    "\n",
    "Overhead and resource consumption.\n",
    "\n",
    "Limited scalability in certain scenarios."
   ]
  },
  {
   "cell_type": "markdown",
   "id": "50c0919f-709d-413b-9aac-d0aa8835ad0a",
   "metadata": {},
   "source": [
    "6. Explain deadlocks and race conditions."
   ]
  },
  {
   "cell_type": "markdown",
   "id": "9e1d33ac-63b3-40dd-9efb-4be09e880a53",
   "metadata": {},
   "source": [
    "A deadlock occurs when two or more threads or processes are indefinitely blocked, waiting for each other to release resources. It typically happens when each thread holds a resource that another thread requires to proceed, creating a circular dependency. "
   ]
  },
  {
   "cell_type": "code",
   "execution_count": null,
   "id": "09e82761-aa40-4061-865c-47d4f8d49a4c",
   "metadata": {},
   "outputs": [],
   "source": []
  }
 ],
 "metadata": {
  "kernelspec": {
   "display_name": "Python 3 (ipykernel)",
   "language": "python",
   "name": "python3"
  },
  "language_info": {
   "codemirror_mode": {
    "name": "ipython",
    "version": 3
   },
   "file_extension": ".py",
   "mimetype": "text/x-python",
   "name": "python",
   "nbconvert_exporter": "python",
   "pygments_lexer": "ipython3",
   "version": "3.10.8"
  }
 },
 "nbformat": 4,
 "nbformat_minor": 5
}
