{
 "cells": [
  {
   "cell_type": "code",
   "execution_count": 3,
   "id": "50b818af-ca6b-4955-bc9b-5c9bd65e518c",
   "metadata": {},
   "outputs": [
    {
     "name": "stdout",
     "output_type": "stream",
     "text": [
      "division by zero\n"
     ]
    }
   ],
   "source": [
    "# use always a specific exception \n",
    "try :\n",
    "    10/0 \n",
    "except Exception as e :\n",
    "    print(e)"
   ]
  },
  {
   "cell_type": "code",
   "execution_count": 4,
   "id": "d0a4141c-d2dd-4fee-aa36-df671b6faccb",
   "metadata": {},
   "outputs": [
    {
     "name": "stdout",
     "output_type": "stream",
     "text": [
      "division by zero\n"
     ]
    }
   ],
   "source": [
    "try :\n",
    "    10/0 \n",
    "except ZeroDivisionError as e :\n",
    "    print(e)"
   ]
  },
  {
   "cell_type": "code",
   "execution_count": 5,
   "id": "467726bb-3338-45e3-9b64-934b0d2d8b09",
   "metadata": {},
   "outputs": [
    {
     "name": "stdout",
     "output_type": "stream",
     "text": [
      "i am trying to handle a zerodivision error division by zero\n"
     ]
    }
   ],
   "source": [
    "# print alwas a proper message\n",
    "\n",
    "try :\n",
    "    10/0 \n",
    "except ZeroDivisionError as e :\n",
    "    print(\"i am trying to handle a zerodivision error\" , e )"
   ]
  },
  {
   "cell_type": "code",
   "execution_count": 8,
   "id": "90871ce4-3019-43cc-a354-86bef9c91317",
   "metadata": {},
   "outputs": [],
   "source": [
    "# print alwas a proper message\n",
    "import logging\n",
    "logging.basicConfig(filename = \"error.log\" , level = logging.ERROR)\n",
    "try :\n",
    "    10/0 \n",
    "except ZeroDivisionError as e :\n",
    "    logging.error(\"i am trying to handle a zerodivision error {} \" .format(e) )"
   ]
  },
  {
   "cell_type": "code",
   "execution_count": 10,
   "id": "a8b8c240-c788-4d24-a601-d4679359ac26",
   "metadata": {},
   "outputs": [
    {
     "ename": "NameError",
     "evalue": "name 'fileNotFoundError' is not defined",
     "output_type": "error",
     "traceback": [
      "\u001b[0;31m---------------------------------------------------------------------------\u001b[0m",
      "\u001b[0;31mZeroDivisionError\u001b[0m                         Traceback (most recent call last)",
      "Cell \u001b[0;32mIn[10], line 5\u001b[0m\n\u001b[1;32m      4\u001b[0m \u001b[38;5;28;01mtry\u001b[39;00m :\n\u001b[0;32m----> 5\u001b[0m     \u001b[38;5;241;43m10\u001b[39;49m\u001b[38;5;241;43m/\u001b[39;49m\u001b[38;5;241;43m0\u001b[39;49m \n\u001b[1;32m      6\u001b[0m \u001b[38;5;28;01mexcept\u001b[39;00m fileNotFoundError \u001b[38;5;28;01mas\u001b[39;00m e :\n",
      "\u001b[0;31mZeroDivisionError\u001b[0m: division by zero",
      "\nDuring handling of the above exception, another exception occurred:\n",
      "\u001b[0;31mNameError\u001b[0m                                 Traceback (most recent call last)",
      "Cell \u001b[0;32mIn[10], line 6\u001b[0m\n\u001b[1;32m      4\u001b[0m \u001b[38;5;28;01mtry\u001b[39;00m :\n\u001b[1;32m      5\u001b[0m     \u001b[38;5;241m10\u001b[39m\u001b[38;5;241m/\u001b[39m\u001b[38;5;241m0\u001b[39m \n\u001b[0;32m----> 6\u001b[0m \u001b[38;5;28;01mexcept\u001b[39;00m \u001b[43mfileNotFoundError\u001b[49m \u001b[38;5;28;01mas\u001b[39;00m e :\n\u001b[1;32m      7\u001b[0m     logging\u001b[38;5;241m.\u001b[39merror(\u001b[38;5;124m\"\u001b[39m\u001b[38;5;124mi am handling file not found \u001b[39m\u001b[38;5;132;01m{}\u001b[39;00m\u001b[38;5;124m \u001b[39m\u001b[38;5;124m\"\u001b[39m\u001b[38;5;241m.\u001b[39mformat(e))\n\u001b[1;32m      8\u001b[0m \u001b[38;5;28;01mexcept\u001b[39;00m \u001b[38;5;167;01mAttributeError\u001b[39;00m \u001b[38;5;28;01mas\u001b[39;00m e :\n",
      "\u001b[0;31mNameError\u001b[0m: name 'fileNotFoundError' is not defined"
     ]
    }
   ],
   "source": [
    "# always avoid to write a multiple exception handling\n",
    "# print alwas a proper message\n",
    "\n",
    "try :\n",
    "    10/0 \n",
    "except fileNotFoundError as e :\n",
    "    logging.error(\"i am handling file not found {} \".format(e))\n",
    "except AttributeError as e :\n",
    "    logging.error(\"i am handling Attribute error {} \".format(e))\n",
    "except ZeroDivisionError as e :\n",
    "    print(\"i am trying to handle a zerodivision error\" , e )"
   ]
  },
  {
   "cell_type": "code",
   "execution_count": 11,
   "id": "bbc0ea2b-7549-4e17-a7ac-7c3fd4f412ab",
   "metadata": {},
   "outputs": [],
   "source": [
    "# Document all the error \n",
    "# cleanup all the resources\n",
    "try :\n",
    "    with open(\"test.txt\" , 'w') as f :\n",
    "        f.write(\"this is my data to file\")\n",
    "except FileNotFoundError as e :\n",
    "    logging.error(\"i am handling file not found {} \".formate(e))\n",
    "finally :\n",
    "    f.close()"
   ]
  },
  {
   "cell_type": "code",
   "execution_count": null,
   "id": "52b1c5ed-e33a-457e-ad2a-1120f079a3ad",
   "metadata": {},
   "outputs": [],
   "source": []
  }
 ],
 "metadata": {
  "kernelspec": {
   "display_name": "Python 3 (ipykernel)",
   "language": "python",
   "name": "python3"
  },
  "language_info": {
   "codemirror_mode": {
    "name": "ipython",
    "version": 3
   },
   "file_extension": ".py",
   "mimetype": "text/x-python",
   "name": "python",
   "nbconvert_exporter": "python",
   "pygments_lexer": "ipython3",
   "version": "3.10.8"
  }
 },
 "nbformat": 4,
 "nbformat_minor": 5
}
