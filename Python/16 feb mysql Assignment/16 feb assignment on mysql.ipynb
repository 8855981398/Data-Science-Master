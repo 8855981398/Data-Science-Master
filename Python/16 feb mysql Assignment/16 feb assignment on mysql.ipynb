{
 "cells": [
  {
   "cell_type": "markdown",
   "id": "cbd57593-f137-49fd-bbe5-75437f46c5ee",
   "metadata": {},
   "source": [
    "Q1. What is a database? Differentiate between SQL and NoSQL databases."
   ]
  },
  {
   "cell_type": "markdown",
   "id": "2fda2cce-3576-454f-a1a2-4f5020a04125",
   "metadata": {},
   "source": [
    "---> A database is a structured collection of data that is organized and stored in a way that allows for efficient retrieval, management, and manipulation of data.\n",
    "SQL Databases:\n",
    "\n",
    "SQL databases are based on the relational data model.\n",
    "\n",
    "They use a tabular structure consisting of rows and columns, where data is organized into tables.\n",
    "\n",
    "They enforce a predefined schema, meaning that the structure of the data is determined in advance.\n",
    "\n",
    "SQL databases support ACID (Atomicity, Consistency, Isolation, Durability) properties, which ensure data integrity and transactional consistency.\n",
    "\n",
    "SQL databases use structured query language (SQL) for defining and manipulating the data.\n",
    "\n",
    "Examples of popular SQL databases include MySQL, PostgreSQL, Oracle Database, and Microsoft SQL Server.\n",
    "\n",
    "NoSQL Databases:\n",
    "\n",
    "NoSQL databases use various data models other than the traditional relational model.\n",
    "\n",
    "They are designed to handle large amounts of unstructured or semi-structured data, such as JSON, XML, or key-value pairs.\n",
    "\n",
    "NoSQL databases provide flexible schemas, allowing for dynamic and scalable data structures.\n",
    "\n",
    "They are highly scalable and capable of handling high-velocity and high-volume data.\n",
    "\n",
    "NoSQL databases typically sacrifice some ACID properties in favor of performance and scalability.\n",
    "\n",
    "NoSQL databases use different query languages or APIs based on their data model. Examples include MongoDB (document-oriented), Cassandra (wide column), and Redis (key-value)."
   ]
  },
  {
   "cell_type": "markdown",
   "id": "2341f7cf-e2ba-4a63-ae9e-e00c0b3a8d45",
   "metadata": {},
   "source": [
    "Q2. What is DDL? Explain why CREATE, DROP, ALTER, and TRUNCATE are used with an example."
   ]
  },
  {
   "cell_type": "markdown",
   "id": "fe2bef51-b4c8-4619-98fa-faca451b7939",
   "metadata": {},
   "source": [
    "DDL stands for Data Definition Language. It is a subset of SQL (Structured Query Language) used to define and manage the structure of a database.\n",
    "CREATE: This statement is used to create a new database object. For example, to create a table named \"Customers\" with columns for \"ID,\" \"Name,\" and \"Email,\" you can use the following SQL statement:"
   ]
  },
  {
   "cell_type": "markdown",
   "id": "e3871800-cc78-446f-b16c-2517e301780c",
   "metadata": {},
   "source": [
    "CREATE TABLE Customers (\n",
    "    ID INT PRIMARY KEY,\n",
    "    Name VARCHAR(50),\n",
    "    Email VARCHAR(100)\n",
    ");\n"
   ]
  },
  {
   "cell_type": "markdown",
   "id": "789846a3-1486-4048-a262-45893667c668",
   "metadata": {},
   "source": [
    "DROP: The DROP statement is used to delete an existing database object"
   ]
  },
  {
   "cell_type": "markdown",
   "id": "09ad821e-a78c-4d6d-b93a-09919772c970",
   "metadata": {},
   "source": [
    "DROP TABLE Customers;\n"
   ]
  },
  {
   "cell_type": "markdown",
   "id": "20b30ebf-c429-4deb-af0a-c9781d279960",
   "metadata": {},
   "source": [
    "ALTER: ALTER statement is used to modify the structure of an existing database object"
   ]
  },
  {
   "cell_type": "markdown",
   "id": "f2066ffb-db42-4c96-808c-a2a4f06f56ef",
   "metadata": {},
   "source": [
    "ALTER TABLE Customers\n",
    "ADD Phone VARCHAR(20);\n"
   ]
  },
  {
   "cell_type": "markdown",
   "id": "5d2b7ba7-ca9d-496a-8dc5-0c295117d5ef",
   "metadata": {},
   "source": [
    "TRUNCATE: TRUNCATE is used to delete all the data in a table, but it keeps the table structure intact."
   ]
  },
  {
   "cell_type": "markdown",
   "id": "1e8fd92b-088e-4422-a47c-59b9b76cde6e",
   "metadata": {},
   "source": [
    "TRUNCATE TABLE Customers;\n"
   ]
  },
  {
   "cell_type": "markdown",
   "id": "be90be62-afa0-4e46-813f-899f95b60993",
   "metadata": {},
   "source": [
    "Q3. What is DML? Explain INSERT, UPDATE, and DELETE with an example."
   ]
  },
  {
   "cell_type": "markdown",
   "id": "5843fe6d-ad1e-4704-a09b-ec125e2c60cb",
   "metadata": {},
   "source": [
    "DML stands for Data Manipulation Language. It is a subset of SQL (Structured Query Language) used to manipulate and interact with the data stored in a database.\n"
   ]
  },
  {
   "cell_type": "markdown",
   "id": "64b1f059-b0a8-4ac9-9d21-fcd224715129",
   "metadata": {},
   "source": [
    "INSERT: The INSERT statement is used to insert new records into a table. You specify the table name and provide the values for the columns you want to populate. "
   ]
  },
  {
   "cell_type": "markdown",
   "id": "4b32700a-081b-4400-bec2-2c797755a094",
   "metadata": {},
   "source": [
    "INSERT INTO Employees (ID, Name, Salary)\n",
    "VALUES (1, 'John Doe', 50000);\n"
   ]
  },
  {
   "cell_type": "markdown",
   "id": "ea57af20-87e4-4258-a3df-f5ca33470f55",
   "metadata": {},
   "source": [
    "UPDATE: The UPDATE statement is used to modify existing records in a table"
   ]
  },
  {
   "cell_type": "markdown",
   "id": "83b2c59e-78bd-401a-9d5f-a9521bca569d",
   "metadata": {},
   "source": [
    "UPDATE Employees\n",
    "SET Salary = 55000\n",
    "WHERE ID = 1;\n"
   ]
  },
  {
   "cell_type": "markdown",
   "id": "ad3718ad-dfcc-4ed8-bf95-3eb5fe0d59fe",
   "metadata": {},
   "source": [
    "DELETE: The DELETE statement is used to remove records from a table."
   ]
  },
  {
   "cell_type": "markdown",
   "id": "831900f5-5f49-48d9-a25c-e47697c51fdf",
   "metadata": {},
   "source": [
    "DELETE FROM Employees\n",
    "WHERE Salary < 50000;\n"
   ]
  },
  {
   "cell_type": "markdown",
   "id": "046d91d0-70ca-431a-a4dd-7e1be0467e81",
   "metadata": {},
   "source": [
    "Q4. What is DQL? Explain SELECT with an example.\n",
    "DQL stands for Data Query Language. It is a subset of SQL (Structured Query Language) used to retrieve and query data from a database.\n",
    "\n"
   ]
  },
  {
   "cell_type": "markdown",
   "id": "318eeac2-b137-4d63-8060-fd48609bf821",
   "metadata": {},
   "source": [
    "SELECT ID, Name\n",
    "FROM Customers;"
   ]
  },
  {
   "cell_type": "markdown",
   "id": "e8e95d5c-322a-4d15-a25f-c26dd5f1380c",
   "metadata": {},
   "source": [
    "This statement retrieves the ID and Name columns from the \"Customers\" table and displays them as the result. You can also apply conditions using the WHERE clause to filter the data"
   ]
  },
  {
   "cell_type": "markdown",
   "id": "7b12938a-9c97-49cc-a37f-0385e31e5cc8",
   "metadata": {},
   "source": [
    "Q5. Explain Primary Key and Foreign Key."
   ]
  },
  {
   "cell_type": "markdown",
   "id": "7c95bb19-4716-4f24-9235-4bb832ad216f",
   "metadata": {},
   "source": [
    "Primary Key:\n",
    "A primary key is a column or a set of columns in a database table that uniquely identifies each row or record in that table\n",
    "\n",
    "Uniqueness: Each value in the primary key column(s) must be unique within the table.\n",
    "\n",
    "Non-nullability: The primary key column(s) cannot contain null values.\n",
    "\n",
    "Stability: The value of the primary key should not change for a given row once it is assigned."
   ]
  },
  {
   "cell_type": "markdown",
   "id": "f6e8f264-cac2-4644-b9b9-68d65277e645",
   "metadata": {},
   "source": [
    "Foreign Key:\n",
    "A foreign key is a column or a set of columns in a database table that refers to the primary key of another table."
   ]
  },
  {
   "cell_type": "markdown",
   "id": "782002c5-b6aa-4c59-a9ed-0ab6ebee30bc",
   "metadata": {},
   "source": [
    "Referential Integrity: The foreign key establishes a relationship between tables, ensuring that data integrity is maintained across related tables.\n",
    "\n",
    "Referenced Table: The foreign key references the primary key of another table, called the referenced table.\n",
    "\n",
    "Relationship: The foreign key represents a relationship between the referencing table (where the foreign key is defined) and the referenced table."
   ]
  },
  {
   "cell_type": "markdown",
   "id": "ded2ffb6-c017-4cd4-a68e-79f54909bf4b",
   "metadata": {},
   "source": [
    "Q6. Write a python code to connect MySQL to python. Explain the cursor() and execute() method."
   ]
  },
  {
   "cell_type": "markdown",
   "id": "d15a60be-d70b-495b-86ad-fd58603fde78",
   "metadata": {},
   "source": [
    "import mysql.connector\n",
    "\n",
    "mydb = mysql.connector.connect(\n",
    "  host=\"localhost\",\n",
    "  user=\"abc\",\n",
    "  password=\"password\"\n",
    ")\n",
    "print(mydb)\n",
    "mycursor = mydb.cursor(\"select * from test.test_table\")\n",
    "for i in mycursor.fetchall() :\n",
    "    print(i)\n",
    "mydb.close()"
   ]
  },
  {
   "cell_type": "markdown",
   "id": "e3889d33-8284-487a-9bce-ac68108115ba",
   "metadata": {},
   "source": [
    "Q7. Give the order of execution of SQL clauses in an SQL query."
   ]
  },
  {
   "cell_type": "markdown",
   "id": "28b111dc-1f54-4ffc-b62a-5e5d71b62560",
   "metadata": {},
   "source": [
    "The general order of execution for SQL clauses in a query is as follows:\n",
    "\n",
    "FROM: Specifies the table or tables from which to retrieve data.\n",
    "\n",
    "JOIN: Performs any necessary joins between tables, combining data from multiple tables based on specified conditions.\n",
    "\n",
    "WHERE: Filters the data based on specified conditions, restricting the result set.\n",
    "\n",
    "GROUP BY: Groups the data based on specified columns.\n",
    "\n",
    "HAVING: Filters the grouped data based on specified conditions.\n",
    "\n",
    "SELECT: Specifies the columns to be retrieved from the result set.\n",
    "\n",
    "DISTINCT: Removes duplicate rows from the result set.\n",
    "\n",
    "ORDER BY: Sorts the result set based on specified columns.\n",
    "\n",
    "LIMIT/OFFSET: Limits the number of rows returned by the query or specifies a starting point for retrieving rows."
   ]
  },
  {
   "cell_type": "code",
   "execution_count": null,
   "id": "f057249d-88eb-4105-a621-7ed6ed324bdd",
   "metadata": {},
   "outputs": [],
   "source": []
  }
 ],
 "metadata": {
  "kernelspec": {
   "display_name": "Python 3 (ipykernel)",
   "language": "python",
   "name": "python3"
  },
  "language_info": {
   "codemirror_mode": {
    "name": "ipython",
    "version": 3
   },
   "file_extension": ".py",
   "mimetype": "text/x-python",
   "name": "python",
   "nbconvert_exporter": "python",
   "pygments_lexer": "ipython3",
   "version": "3.10.8"
  }
 },
 "nbformat": 4,
 "nbformat_minor": 5
}
