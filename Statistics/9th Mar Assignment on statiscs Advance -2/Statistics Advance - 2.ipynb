{
 "cells": [
  {
   "cell_type": "markdown",
   "id": "026c003f-d87c-4608-8df9-13edbde5712f",
   "metadata": {},
   "source": [
    "Q1: What are the Probability Mass Function (PMF) and Probability Density Function (PDF)? Explain with\n",
    "an example."
   ]
  },
  {
   "cell_type": "markdown",
   "id": "95c19f5a-2baf-4e4e-97b7-ce6e28485e91",
   "metadata": {},
   "source": [
    "Probability Mass Function (PMF) and Probability Density Function (PDF) are mathematical functions used to describe the probability distribution of a random variable.\n",
    "\n",
    "Probability Mass Function (PMF):\n",
    "The Probability Mass Function (PMF) is used for discrete random variables. It gives the probability that a discrete random variable takes on a specific value. The PMF is defined as:\n",
    "PMF(x) = P(X = x)\n",
    "\n",
    "where X is the random variable and x is a specific value that X can take on.\n",
    "\n",
    "Example:\n",
    "Let's consider a fair six-sided die. The random variable X represents the outcome of rolling the die. The PMF for X can be written as:\n",
    "\n",
    "PMF(1) = P(X = 1) = 1/6\n",
    "PMF(2) = P(X = 2) = 1/6\n",
    "PMF(3) = P(X = 3) = 1/6\n",
    "PMF(4) = P(X = 4) = 1/6\n",
    "PMF(5) = P(X = 5) = 1/6\n",
    "PMF(6) = P(X = 6) = 1/6\n",
    "\n",
    "The PMF tells us the probability of each possible outcome. In this case, each outcome has an equal probability of 1/6.\n",
    "\n",
    "Probability Density Function (PDF):\n",
    "The Probability Density Function (PDF) is used for continuous random variables. Unlike discrete random variables, continuous random variables can take on any value within a certain range. The PDF gives the relative likelihood of the variable taking on a specific value or falling within a range of values. The PDF is defined as:\n",
    "PDF(x) = dF(x) / dx\n",
    "\n",
    "where F(x) is the cumulative distribution function (CDF) of the random variable.\n",
    "\n",
    "Example:\n",
    "Let's consider the height of adult males in a population. The random variable X represents the height. The PDF for X can be represented by a normal distribution curve, such as the bell-shaped curve. The PDF does not give the probability directly but rather the probability density. For example:\n",
    "\n",
    "PDF(170 cm) = 0.03 (hypothetical value)\n",
    "\n",
    "The PDF value indicates that the density of the height being exactly 170 cm is 0.03, but the actual probability of an individual having exactly 170 cm height is infinitesimally small since the height is a continuous variable.\n",
    "\n"
   ]
  },
  {
   "cell_type": "markdown",
   "id": "982b283c-6c7e-4a3c-bfb9-974bf04070b8",
   "metadata": {},
   "source": [
    "Q2: What is Cumulative Density Function (CDF)? Explain with an example. Why CDF is used?"
   ]
  },
  {
   "cell_type": "markdown",
   "id": "10d1c16b-2981-49a9-a050-f2be5fddad07",
   "metadata": {},
   "source": [
    "Cumulative Density Function (CDF) is a mathematical function that gives the probability that a random variable takes on a value less than or equal to a given value. It provides information about the cumulative distribution of a random variable.\n",
    "\n",
    "The CDF of a random variable X is defined as:\n",
    "\n",
    "CDF(x) = P(X ≤ x)\n",
    "\n",
    "where X is the random variable and x is a specific value.\n",
    "\n",
    "Example:\n",
    "Let's consider the same fair six-sided die example as in the previous question. The CDF for the random variable X can be written as:\n",
    "\n",
    "CDF(1) = P(X ≤ 1) = 1/6\n",
    "CDF(2) = P(X ≤ 2) = 2/6\n",
    "CDF(3) = P(X ≤ 3) = 3/6\n",
    "CDF(4) = P(X ≤ 4) = 4/6\n",
    "CDF(5) = P(X ≤ 5) = 5/6\n",
    "CDF(6) = P(X ≤ 6) = 6/6 = 1\n",
    "\n",
    "The CDF provides the probability of the random variable being less than or equal to a certain value. In this case, the CDF(2) tells us that the probability of rolling a value less than or equal to 2 is 2/6 or 1/3.\n",
    "\n",
    "Why CDF is used?\n",
    "The CDF is used for several reasons:\n",
    "\n",
    "Determining probabilities: The CDF allows us to calculate the probability of a random variable being within a certain range. For example, to find the probability of a random variable being between two values, we can subtract the CDF values at those two points.\n",
    "\n",
    "Describing distribution: The CDF provides a comprehensive description of the distribution of a random variable. It shows how the probabilities accumulate as the values of the random variable increase"
   ]
  },
  {
   "cell_type": "markdown",
   "id": "c77c07ab-6fef-42e2-8f1a-166c9d4c5b28",
   "metadata": {},
   "source": [
    "Q3: What are some examples of situations where the normal distribution might be used as a model?\n",
    "Explain how the parameters of the normal distribution relate to the shape of the distribution."
   ]
  },
  {
   "cell_type": "markdown",
   "id": "d0bd65c1-431d-4f80-beaf-a05bc1d967cd",
   "metadata": {},
   "source": [
    "The normal distribution, also known as the Gaussian distribution or bell curve, is a widely used probability distribution in statistics and modeling. It is employed in various real-world situations where certain conditions are met. Here are some examples of situations where the normal distribution might be used as a model:\n",
    "\n",
    "Heights and Weights: The heights and weights of a population often follow a normal distribution. Although there can be some variation, the majority of individuals tend to cluster around the mean height and weight, with fewer individuals having extreme values.\n",
    "\n",
    "IQ Scores: Intelligence quotient (IQ) scores are often assumed to follow a normal distribution, with the majority of people falling within the average range and fewer individuals having very low or very high IQ scores.\n",
    "\n",
    "Measurement Errors: In many scientific experiments or measurements, there can be some degree of error involved. Assuming that the errors are normally distributed is often a reasonable approximation, especially when considering random errors that result from various sources.\n",
    "\n",
    "Test Scores: Scores obtained in standardized tests, such as SAT or GRE, often exhibit a normal distribution. The majority of test-takers tend to score near the mean, with fewer individuals achieving extremely low or high scores.\n",
    "\n"
   ]
  },
  {
   "cell_type": "markdown",
   "id": "ed46d225-8117-4727-a83d-24b83b9e94c8",
   "metadata": {},
   "source": [
    "Q4: Explain the importance of Normal Distribution. Give a few real-life examples of Normal\n",
    "Distribution."
   ]
  },
  {
   "cell_type": "markdown",
   "id": "e494237e-ecfc-4e3e-8d43-2cce20e60ea6",
   "metadata": {},
   "source": [
    "The normal distribution, also known as the Gaussian distribution or bell curve, is of great importance in statistics and data analysis. It has numerous practical applications and is widely used for various reasons. Here are a few key reasons for the importance of the normal distribution:\n",
    "\n",
    "Central Limit Theorem: The normal distribution plays a crucial role in the Central Limit Theorem. According to this theorem, the sum or average of a large number of independent and identically distributed random variables tends to follow a normal distribution, regardless of the shape of the original distribution. This property makes the normal distribution a fundamental concept in statistical inference and hypothesis testing.\n",
    "\n",
    "Statistical Inference: In many statistical methods, such as hypothesis testing and confidence interval estimation, assumptions are made about the distribution of the data. The assumption of normality allows for the use of various powerful statistical techniques that are based on the properties of the normal distribution. It simplifies the analysis and enables reliable inferences in a wide range of scenarios.\n",
    "\n",
    "Predictive Modeling: The normal distribution is often employed in predictive modeling and forecasting. Many statistical and machine learning models assume that the residuals (errors) follow a normal distribution. This assumption is important for model evaluation, assessing the quality of predictions, and making reliable forecasts.\n",
    "\n"
   ]
  },
  {
   "cell_type": "markdown",
   "id": "b1b47be8-e962-4b40-9115-8f46f8512850",
   "metadata": {},
   "source": [
    "Q5: What is Bernaulli Distribution? Give an Example. What is the difference between Bernoulli\n",
    "Distribution and Binomial Distribution?"
   ]
  },
  {
   "cell_type": "markdown",
   "id": "800386b2-8398-43da-8355-40ab59197c52",
   "metadata": {},
   "source": [
    "The Bernoulli distribution is a discrete probability distribution that models a single binary random variable with two possible outcomes: success (usually denoted as 1) and failure (usually denoted as 0). It is named after Jacob Bernoulli, a Swiss mathematician. The Bernoulli distribution is characterized by a single parameter, p, which represents the probability of success.\n",
    "\n",
    "The probability mass function (PMF) of the Bernoulli distribution is defined as:\n",
    "\n",
    "P(X = x) = p^x * (1 - p)^(1-x)\n",
    "\n",
    "where X is the random variable that takes values of 0 or 1, and x is a specific value (0 or 1).\n",
    "\n",
    "Example:\n",
    "Let's consider the tossing of a fair coin. We can model the outcome of a single coin toss using a Bernoulli distribution. We define success as getting heads (H) and failure as getting tails (T). The parameter p, in this case, would be 0.5 since the probability of getting heads or tails is equal.\n",
    "\n",
    "P(X = 0) = (0.5)^0 * (1 - 0.5)^(1-0) = 0.5\n",
    "P(X = 1) = (0.5)^1 * (1 - 0.5)^(1-1) = 0.5"
   ]
  },
  {
   "cell_type": "markdown",
   "id": "91d5b3aa-1cd1-4499-910b-c2b91b3b3737",
   "metadata": {},
   "source": [
    "Q6. Consider a dataset with a mean of 50 and a standard deviation of 10. If we assume that the dataset\n",
    "is normally distributed, what is the probability that a randomly selected observation will be greater\n",
    "than 60? Use the appropriate formula and show your calculations."
   ]
  },
  {
   "cell_type": "markdown",
   "id": "e0ff4d2c-8fa4-4828-a9c3-e8a781d981cb",
   "metadata": {},
   "source": [
    "To calculate the probability that a randomly selected observation from a normally distributed dataset will be greater than 60, we can use the standardized normal distribution (Z-distribution) and the cumulative distribution function (CDF).\n",
    "\n",
    "The standardized value (Z-score) represents how many standard deviations an observation is away from the mean. In this case, we can calculate the Z-score for 60 using the formula:\n",
    "\n",
    "Z = (X - μ) / σ\n",
    "\n",
    "where X is the value (60), μ is the mean (50), and σ is the standard deviation (10).\n",
    "\n",
    "Substituting the values:\n",
    "\n",
    "Z = (60 - 50) / 10 = 1\n",
    "\n",
    "Next, we can use the Z-score to calculate the probability using the cumulative distribution function (CDF) of the standard normal distribution.\n",
    "\n",
    "P(Z > 1) = 1 - P(Z ≤ 1)\n",
    "\n",
    "Using a Z-table or a calculator, we can find that P(Z ≤ 1) is approximately 0.8413.\n",
    "\n",
    "Therefore,\n",
    "\n",
    "P(Z > 1) = 1 - 0.8413 = 0.1587\n",
    "\n",
    "So, the probability that a randomly selected observation from the dataset will be greater than 60 is approximately 0\n",
    "\n"
   ]
  },
  {
   "cell_type": "markdown",
   "id": "6e26a9c7-950a-485b-9de1-50b04de82ab9",
   "metadata": {},
   "source": [
    "Q7: Explain uniform Distribution with an example."
   ]
  },
  {
   "cell_type": "markdown",
   "id": "15454652-2c92-4125-b9ae-d65afe035a80",
   "metadata": {},
   "source": [
    "The uniform distribution is a probability distribution in which all outcomes in a given range are equally likely. In other words, each value within the range has the same probability of occurring. It is often depicted as a rectangular-shaped distribution, where the height of the rectangle represents the probability density.\n",
    "\n",
    "The probability density function (PDF) of a uniform distribution is defined as:\n",
    "\n",
    "f(x) = 1 / (b - a)\n",
    "\n",
    "where 'a' and 'b' are the lower and upper bounds of the distribution, respectively.\n",
    "\n",
    "Example:\n",
    "Let's consider a fair six-sided die. The random variable X represents the outcome of rolling the die. In this case, the uniform distribution is appropriate because each face of the die (1, 2, 3, 4, 5, 6) has an equal probability of occurring.\n",
    "\n",
    "The PDF for the uniform distribution of X is given as:\n",
    "\n",
    "f(x) = 1 / (6 - 1) = 1/5\n",
    "\n",
    "For this example, the PDF is a constant value of 1/5 for any value within the range of 1 to 6, since all faces of the die are equally likely.\n",
    "\n",
    "This means that the probability of rolling any particular number (1, 2, 3, 4, 5, or 6) is 1/6, which is the same for each possible outcome."
   ]
  },
  {
   "cell_type": "markdown",
   "id": "2f2f6c5d-8acc-4df7-a365-9556ae23383f",
   "metadata": {},
   "source": [
    "Q8: What is the z score? State the importance of the z score."
   ]
  },
  {
   "cell_type": "markdown",
   "id": "cfe200a8-1af4-439e-8f61-690680236216",
   "metadata": {},
   "source": [
    "The z-score, also known as the standard score, is a measure that represents how many standard deviations an individual data point or observation is away from the mean of a distribution. It is a standardized value that allows for comparison and interpretation of data across different distributions.\n",
    "\n",
    "The formula to calculate the z-score for a data point X, given the mean (μ) and standard deviation (σ) of the distribution, is:\n",
    "\n",
    "z = (X - μ) / σ\n",
    "\n",
    "The z-score tells us how far a data point is from the mean in terms of standard deviations. A positive z-score indicates that the data point is above the mean, while a negative z-score indicates it is below the mean.\n",
    "\n",
    "Importance of the z-score:\n",
    "\n",
    "Standardization and Comparison: The z-score standardizes data by transforming it into a common scale. It enables the comparison of data points from different distributions or variables. By converting data to z-scores, we can assess how an individual data point or observation compares to the overall distribution.\n",
    "\n",
    "Identification of Outliers: The z-score helps identify outliers in a dataset. Outliers are data points that are significantly different from the majority of the data. By defining a threshold, such as z > 3 or z < -3, we can identify observations that are unusually far from the mean and may require further investigation.\n",
    "\n",
    "Probability Calculation: The z-score is used to calculate probabilities in a normal distribution. By converting data to z-scores, we can use the standard normal distribution table or statistical software to determine the probability of obtaining a value below, above, or between certain z-scores. This is helpful in hypothesis testing, confidence interval estimation, and understanding the likelihood of certain events occurring.\n",
    "\n",
    "Data Analysis and Interpretation: The z-score provides valuable insights into the relative position of data points within a distribution. It allows us to understand how extreme or typical a data point is compared to others. Positive or negative z-scores indicate whether a data point is above or below the mean, respectively, and the magnitude of the z-score reflects the distance from the mean.\n",
    "\n",
    "Standardized Data Transformation: The z-score transformation is used in various statistical techniques, such as factor analysis, principal component analysis, and regression analysis. "
   ]
  },
  {
   "cell_type": "markdown",
   "id": "c8dc339a-70f0-4fbf-b60a-23fe96c86159",
   "metadata": {},
   "source": [
    "Q9: What is Central Limit Theorem? State the significance of the Central Limit Theorem."
   ]
  },
  {
   "cell_type": "markdown",
   "id": "86abef0b-a9b7-45dc-b832-8340f7ed5f43",
   "metadata": {},
   "source": [
    "The Central Limit Theorem (CLT) is a fundamental theorem in probability theory and statistics. It states that, under certain conditions, the sum or average of a large number of independent and identically distributed random variables will be approximately normally distributed, regardless of the shape of the original distribution.\n",
    "\n",
    "The Central Limit Theorem is significant for several reasons:\n",
    "\n",
    "Approximation of Distributions: The CLT allows us to approximate the distribution of a sample mean or sum, even if the individual observations do not follow a normal distribution. This is valuable because the normal distribution is well understood, and it simplifies statistical analysis.\n",
    "\n",
    "Inference and Hypothesis Testing: The CLT is the foundation for many statistical inference techniques. It enables us to make inferences about population parameters, such as the population mean, by using sample means. It is used in hypothesis testing, confidence interval estimation, and determining the statistical significance of results"
   ]
  },
  {
   "cell_type": "markdown",
   "id": "b2fbc40e-aca0-42e8-a696-fe5071cb3aaa",
   "metadata": {},
   "source": [
    "Q10: State the assumptions of the Central Limit Theorem."
   ]
  },
  {
   "cell_type": "code",
   "execution_count": null,
   "id": "acca4db9-ccb8-4e03-9e78-f1e1cfa7fb70",
   "metadata": {},
   "outputs": [],
   "source": [
    "The Central Limit Theorem (CLT) relies on certain assumptions to hold true. These assumptions are as follows:\n",
    "\n",
    "Independent and Identically Distributed (IID) Random Variables: The variables in the sample must be independent of each other, meaning that the value of one variable does not influence the value of another. Additionally, the variables must be identically distributed, meaning they are drawn from the same population distribution with the same mean and variance.\n",
    "\n",
    "Finite Variance: The population from which the sample is drawn must have a finite variance (i.e., the variance should not be infinite). This assumption ensures that the sample mean converges to a well-defined value.\n",
    "\n",
    "Random Sampling: The sample should be obtained through a random sampling process, where each observation has an equal chance of being selected. This ensures that the sample is representative of the population.\n",
    "\n",
    "Sample Size: The CLT assumes that the sample size is sufficiently large. While there is no strict threshold for what constitutes a \"large\" sample size, a common guideline is that the sample size should be greater than 30. However, for populations that are strongly skewed or have heavy tails, a larger sample size may be necessary for the CLT to apply.\n",
    "\n",
    "I"
   ]
  }
 ],
 "metadata": {
  "kernelspec": {
   "display_name": "Python 3 (ipykernel)",
   "language": "python",
   "name": "python3"
  },
  "language_info": {
   "codemirror_mode": {
    "name": "ipython",
    "version": 3
   },
   "file_extension": ".py",
   "mimetype": "text/x-python",
   "name": "python",
   "nbconvert_exporter": "python",
   "pygments_lexer": "ipython3",
   "version": "3.10.8"
  }
 },
 "nbformat": 4,
 "nbformat_minor": 5
}
